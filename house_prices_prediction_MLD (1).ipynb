{
  "metadata": {
    "kernelspec": {
      "language": "python",
      "display_name": "Python 3",
      "name": "python3"
    },
    "language_info": {
      "name": "python",
      "version": "3.7.12",
      "mimetype": "text/x-python",
      "codemirror_mode": {
        "name": "ipython",
        "version": 3
      },
      "pygments_lexer": "ipython3",
      "nbconvert_exporter": "python",
      "file_extension": ".py"
    },
    "colab": {
      "provenance": []
    }
  },
  "nbformat_minor": 0,
  "nbformat": 4,
  "cells": [
    {
      "cell_type": "code",
      "source": [
        "!pip install --quiet optuna"
      ],
      "metadata": {
        "id": "nCDKpdcpQwri"
      },
      "execution_count": null,
      "outputs": []
    },
    {
      "cell_type": "code",
      "source": [
        "from google.colab import drive\n",
        "drive.mount('/content/drive')"
      ],
      "metadata": {
        "colab": {
          "base_uri": "https://localhost:8080/"
        },
        "id": "EKILzb67yvEO",
        "outputId": "189d9c5c-a728-4ed1-8832-ef3b5d8b9164"
      },
      "execution_count": null,
      "outputs": [
        {
          "output_type": "stream",
          "name": "stdout",
          "text": [
            "Drive already mounted at /content/drive; to attempt to forcibly remount, call drive.mount(\"/content/drive\", force_remount=True).\n"
          ]
        }
      ]
    },
    {
      "cell_type": "code",
      "source": [
        "from tqdm import tqdm\n",
        "from sklearn.model_selection import train_test_split, RandomizedSearchCV, KFold\n",
        "import numpy as np\n",
        "import pandas as pd \n",
        "from sklearn.linear_model import Ridge\n",
        "from lightgbm import LGBMRegressor\n",
        "from sklearn.preprocessing import StandardScaler\n",
        "from sklearn.metrics import mean_squared_error, r2_score\n",
        "from statsmodels.stats.outliers_influence import variance_inflation_factor\n",
        "import optuna\n",
        "from sklearn.ensemble import IsolationForest\n",
        "import matplotlib.pyplot as plt\n",
        "import seaborn as sns\n",
        "import pickle\n",
        "from sklearn.preprocessing import LabelEncoder\n",
        "\n",
        "\n"
      ],
      "metadata": {
        "_uuid": "8f2839f25d086af736a60e9eeb907d3b93b6e0e5",
        "_cell_guid": "b1076dfc-b9ad-4769-8c92-a6c4dae69d19",
        "execution": {
          "iopub.status.busy": "2023-01-22T21:43:45.422892Z",
          "iopub.execute_input": "2023-01-22T21:43:45.423260Z",
          "iopub.status.idle": "2023-01-22T21:43:46.329873Z",
          "shell.execute_reply.started": "2023-01-22T21:43:45.423176Z",
          "shell.execute_reply": "2023-01-22T21:43:46.328847Z"
        },
        "trusted": true,
        "id": "tqf26M8ZyEVI"
      },
      "execution_count": null,
      "outputs": []
    },
    {
      "cell_type": "code",
      "source": [
        "df = pd.read_csv('/content/drive/MyDrive/train.csv')"
      ],
      "metadata": {
        "execution": {
          "iopub.status.busy": "2023-01-22T21:43:49.476491Z",
          "iopub.execute_input": "2023-01-22T21:43:49.476886Z",
          "iopub.status.idle": "2023-01-22T21:43:49.526580Z",
          "shell.execute_reply.started": "2023-01-22T21:43:49.476850Z",
          "shell.execute_reply": "2023-01-22T21:43:49.525596Z"
        },
        "trusted": true,
        "id": "lJMB3hobyEVM"
      },
      "execution_count": null,
      "outputs": []
    },
    {
      "cell_type": "code",
      "source": [
        "df.drop(columns= ['Id'], inplace = True)"
      ],
      "metadata": {
        "id": "S7QqywpRMmwb"
      },
      "execution_count": null,
      "outputs": []
    },
    {
      "cell_type": "code",
      "source": [
        "df.describe()"
      ],
      "metadata": {
        "colab": {
          "base_uri": "https://localhost:8080/",
          "height": 300
        },
        "id": "H88NI2cmzSx3",
        "outputId": "6124197a-34b5-413d-cdcf-2ba9e27c03e8"
      },
      "execution_count": null,
      "outputs": [
        {
          "output_type": "execute_result",
          "data": {
            "text/plain": [
              "       OverallCond  TotalBsmtSF     1stFlrSF     2ndFlrSF    GrLivArea  \\\n",
              "count  1460.000000  1460.000000  1460.000000  1460.000000  1460.000000   \n",
              "mean      5.575342  1057.429452  1162.626712   346.992466  1515.463699   \n",
              "std       1.112799   438.705324   386.587738   436.528436   525.480383   \n",
              "min       1.000000     0.000000   334.000000     0.000000   334.000000   \n",
              "25%       5.000000   795.750000   882.000000     0.000000  1129.500000   \n",
              "50%       5.000000   991.500000  1087.000000     0.000000  1464.000000   \n",
              "75%       6.000000  1298.250000  1391.250000   728.000000  1776.750000   \n",
              "max       9.000000  6110.000000  4692.000000  2065.000000  5642.000000   \n",
              "\n",
              "          FullBath  BedroomAbvGr      SalePrice  \n",
              "count  1460.000000   1460.000000    1460.000000  \n",
              "mean      1.565068      2.866438  180921.195890  \n",
              "std       0.550916      0.815778   79442.502883  \n",
              "min       0.000000      0.000000   34900.000000  \n",
              "25%       1.000000      2.000000  129975.000000  \n",
              "50%       2.000000      3.000000  163000.000000  \n",
              "75%       2.000000      3.000000  214000.000000  \n",
              "max       3.000000      8.000000  755000.000000  "
            ],
            "text/html": [
              "\n",
              "  <div id=\"df-030664ec-6b60-4c97-9fda-b2b96f08cefc\">\n",
              "    <div class=\"colab-df-container\">\n",
              "      <div>\n",
              "<style scoped>\n",
              "    .dataframe tbody tr th:only-of-type {\n",
              "        vertical-align: middle;\n",
              "    }\n",
              "\n",
              "    .dataframe tbody tr th {\n",
              "        vertical-align: top;\n",
              "    }\n",
              "\n",
              "    .dataframe thead th {\n",
              "        text-align: right;\n",
              "    }\n",
              "</style>\n",
              "<table border=\"1\" class=\"dataframe\">\n",
              "  <thead>\n",
              "    <tr style=\"text-align: right;\">\n",
              "      <th></th>\n",
              "      <th>OverallCond</th>\n",
              "      <th>TotalBsmtSF</th>\n",
              "      <th>1stFlrSF</th>\n",
              "      <th>2ndFlrSF</th>\n",
              "      <th>GrLivArea</th>\n",
              "      <th>FullBath</th>\n",
              "      <th>BedroomAbvGr</th>\n",
              "      <th>SalePrice</th>\n",
              "    </tr>\n",
              "  </thead>\n",
              "  <tbody>\n",
              "    <tr>\n",
              "      <th>count</th>\n",
              "      <td>1460.000000</td>\n",
              "      <td>1460.000000</td>\n",
              "      <td>1460.000000</td>\n",
              "      <td>1460.000000</td>\n",
              "      <td>1460.000000</td>\n",
              "      <td>1460.000000</td>\n",
              "      <td>1460.000000</td>\n",
              "      <td>1460.000000</td>\n",
              "    </tr>\n",
              "    <tr>\n",
              "      <th>mean</th>\n",
              "      <td>5.575342</td>\n",
              "      <td>1057.429452</td>\n",
              "      <td>1162.626712</td>\n",
              "      <td>346.992466</td>\n",
              "      <td>1515.463699</td>\n",
              "      <td>1.565068</td>\n",
              "      <td>2.866438</td>\n",
              "      <td>180921.195890</td>\n",
              "    </tr>\n",
              "    <tr>\n",
              "      <th>std</th>\n",
              "      <td>1.112799</td>\n",
              "      <td>438.705324</td>\n",
              "      <td>386.587738</td>\n",
              "      <td>436.528436</td>\n",
              "      <td>525.480383</td>\n",
              "      <td>0.550916</td>\n",
              "      <td>0.815778</td>\n",
              "      <td>79442.502883</td>\n",
              "    </tr>\n",
              "    <tr>\n",
              "      <th>min</th>\n",
              "      <td>1.000000</td>\n",
              "      <td>0.000000</td>\n",
              "      <td>334.000000</td>\n",
              "      <td>0.000000</td>\n",
              "      <td>334.000000</td>\n",
              "      <td>0.000000</td>\n",
              "      <td>0.000000</td>\n",
              "      <td>34900.000000</td>\n",
              "    </tr>\n",
              "    <tr>\n",
              "      <th>25%</th>\n",
              "      <td>5.000000</td>\n",
              "      <td>795.750000</td>\n",
              "      <td>882.000000</td>\n",
              "      <td>0.000000</td>\n",
              "      <td>1129.500000</td>\n",
              "      <td>1.000000</td>\n",
              "      <td>2.000000</td>\n",
              "      <td>129975.000000</td>\n",
              "    </tr>\n",
              "    <tr>\n",
              "      <th>50%</th>\n",
              "      <td>5.000000</td>\n",
              "      <td>991.500000</td>\n",
              "      <td>1087.000000</td>\n",
              "      <td>0.000000</td>\n",
              "      <td>1464.000000</td>\n",
              "      <td>2.000000</td>\n",
              "      <td>3.000000</td>\n",
              "      <td>163000.000000</td>\n",
              "    </tr>\n",
              "    <tr>\n",
              "      <th>75%</th>\n",
              "      <td>6.000000</td>\n",
              "      <td>1298.250000</td>\n",
              "      <td>1391.250000</td>\n",
              "      <td>728.000000</td>\n",
              "      <td>1776.750000</td>\n",
              "      <td>2.000000</td>\n",
              "      <td>3.000000</td>\n",
              "      <td>214000.000000</td>\n",
              "    </tr>\n",
              "    <tr>\n",
              "      <th>max</th>\n",
              "      <td>9.000000</td>\n",
              "      <td>6110.000000</td>\n",
              "      <td>4692.000000</td>\n",
              "      <td>2065.000000</td>\n",
              "      <td>5642.000000</td>\n",
              "      <td>3.000000</td>\n",
              "      <td>8.000000</td>\n",
              "      <td>755000.000000</td>\n",
              "    </tr>\n",
              "  </tbody>\n",
              "</table>\n",
              "</div>\n",
              "      <button class=\"colab-df-convert\" onclick=\"convertToInteractive('df-030664ec-6b60-4c97-9fda-b2b96f08cefc')\"\n",
              "              title=\"Convert this dataframe to an interactive table.\"\n",
              "              style=\"display:none;\">\n",
              "        \n",
              "  <svg xmlns=\"http://www.w3.org/2000/svg\" height=\"24px\"viewBox=\"0 0 24 24\"\n",
              "       width=\"24px\">\n",
              "    <path d=\"M0 0h24v24H0V0z\" fill=\"none\"/>\n",
              "    <path d=\"M18.56 5.44l.94 2.06.94-2.06 2.06-.94-2.06-.94-.94-2.06-.94 2.06-2.06.94zm-11 1L8.5 8.5l.94-2.06 2.06-.94-2.06-.94L8.5 2.5l-.94 2.06-2.06.94zm10 10l.94 2.06.94-2.06 2.06-.94-2.06-.94-.94-2.06-.94 2.06-2.06.94z\"/><path d=\"M17.41 7.96l-1.37-1.37c-.4-.4-.92-.59-1.43-.59-.52 0-1.04.2-1.43.59L10.3 9.45l-7.72 7.72c-.78.78-.78 2.05 0 2.83L4 21.41c.39.39.9.59 1.41.59.51 0 1.02-.2 1.41-.59l7.78-7.78 2.81-2.81c.8-.78.8-2.07 0-2.86zM5.41 20L4 18.59l7.72-7.72 1.47 1.35L5.41 20z\"/>\n",
              "  </svg>\n",
              "      </button>\n",
              "      \n",
              "  <style>\n",
              "    .colab-df-container {\n",
              "      display:flex;\n",
              "      flex-wrap:wrap;\n",
              "      gap: 12px;\n",
              "    }\n",
              "\n",
              "    .colab-df-convert {\n",
              "      background-color: #E8F0FE;\n",
              "      border: none;\n",
              "      border-radius: 50%;\n",
              "      cursor: pointer;\n",
              "      display: none;\n",
              "      fill: #1967D2;\n",
              "      height: 32px;\n",
              "      padding: 0 0 0 0;\n",
              "      width: 32px;\n",
              "    }\n",
              "\n",
              "    .colab-df-convert:hover {\n",
              "      background-color: #E2EBFA;\n",
              "      box-shadow: 0px 1px 2px rgba(60, 64, 67, 0.3), 0px 1px 3px 1px rgba(60, 64, 67, 0.15);\n",
              "      fill: #174EA6;\n",
              "    }\n",
              "\n",
              "    [theme=dark] .colab-df-convert {\n",
              "      background-color: #3B4455;\n",
              "      fill: #D2E3FC;\n",
              "    }\n",
              "\n",
              "    [theme=dark] .colab-df-convert:hover {\n",
              "      background-color: #434B5C;\n",
              "      box-shadow: 0px 1px 3px 1px rgba(0, 0, 0, 0.15);\n",
              "      filter: drop-shadow(0px 1px 2px rgba(0, 0, 0, 0.3));\n",
              "      fill: #FFFFFF;\n",
              "    }\n",
              "  </style>\n",
              "\n",
              "      <script>\n",
              "        const buttonEl =\n",
              "          document.querySelector('#df-030664ec-6b60-4c97-9fda-b2b96f08cefc button.colab-df-convert');\n",
              "        buttonEl.style.display =\n",
              "          google.colab.kernel.accessAllowed ? 'block' : 'none';\n",
              "\n",
              "        async function convertToInteractive(key) {\n",
              "          const element = document.querySelector('#df-030664ec-6b60-4c97-9fda-b2b96f08cefc');\n",
              "          const dataTable =\n",
              "            await google.colab.kernel.invokeFunction('convertToInteractive',\n",
              "                                                     [key], {});\n",
              "          if (!dataTable) return;\n",
              "\n",
              "          const docLinkHtml = 'Like what you see? Visit the ' +\n",
              "            '<a target=\"_blank\" href=https://colab.research.google.com/notebooks/data_table.ipynb>data table notebook</a>'\n",
              "            + ' to learn more about interactive tables.';\n",
              "          element.innerHTML = '';\n",
              "          dataTable['output_type'] = 'display_data';\n",
              "          await google.colab.output.renderOutput(dataTable, element);\n",
              "          const docLink = document.createElement('div');\n",
              "          docLink.innerHTML = docLinkHtml;\n",
              "          element.appendChild(docLink);\n",
              "        }\n",
              "      </script>\n",
              "    </div>\n",
              "  </div>\n",
              "  "
            ]
          },
          "metadata": {},
          "execution_count": 13
        }
      ]
    },
    {
      "cell_type": "code",
      "source": [
        "corr = df.corr()\n",
        "corr.style.background_gradient(cmap = 'coolwarm')"
      ],
      "metadata": {
        "colab": {
          "base_uri": "https://localhost:8080/",
          "height": 300
        },
        "id": "skRh0ZfgMcgx",
        "outputId": "3dbadda4-19ef-49a1-8eca-2540bb3b4a47"
      },
      "execution_count": null,
      "outputs": [
        {
          "output_type": "execute_result",
          "data": {
            "text/plain": [
              "<pandas.io.formats.style.Styler at 0x7fe43e120940>"
            ],
            "text/html": [
              "<style type=\"text/css\">\n",
              "#T_18aba_row0_col0, #T_18aba_row1_col1, #T_18aba_row2_col2, #T_18aba_row3_col3, #T_18aba_row4_col4, #T_18aba_row5_col5, #T_18aba_row6_col6, #T_18aba_row7_col7 {\n",
              "  background-color: #b40426;\n",
              "  color: #f1f1f1;\n",
              "}\n",
              "#T_18aba_row0_col1, #T_18aba_row0_col4, #T_18aba_row0_col5, #T_18aba_row0_col6, #T_18aba_row0_col7, #T_18aba_row2_col3, #T_18aba_row3_col1, #T_18aba_row3_col2, #T_18aba_row5_col0 {\n",
              "  background-color: #3b4cc0;\n",
              "  color: #f1f1f1;\n",
              "}\n",
              "#T_18aba_row0_col2 {\n",
              "  background-color: #4961d2;\n",
              "  color: #f1f1f1;\n",
              "}\n",
              "#T_18aba_row0_col3, #T_18aba_row6_col1 {\n",
              "  background-color: #799cf8;\n",
              "  color: #f1f1f1;\n",
              "}\n",
              "#T_18aba_row1_col0 {\n",
              "  background-color: #3f53c6;\n",
              "  color: #f1f1f1;\n",
              "}\n",
              "#T_18aba_row1_col2 {\n",
              "  background-color: #e36c55;\n",
              "  color: #f1f1f1;\n",
              "}\n",
              "#T_18aba_row1_col3 {\n",
              "  background-color: #4055c8;\n",
              "  color: #f1f1f1;\n",
              "}\n",
              "#T_18aba_row1_col4 {\n",
              "  background-color: #dbdcde;\n",
              "  color: #000000;\n",
              "}\n",
              "#T_18aba_row1_col5, #T_18aba_row7_col3 {\n",
              "  background-color: #cbd8ee;\n",
              "  color: #000000;\n",
              "}\n",
              "#T_18aba_row1_col6 {\n",
              "  background-color: #455cce;\n",
              "  color: #f1f1f1;\n",
              "}\n",
              "#T_18aba_row1_col7 {\n",
              "  background-color: #f6bfa6;\n",
              "  color: #000000;\n",
              "}\n",
              "#T_18aba_row2_col0 {\n",
              "  background-color: #465ecf;\n",
              "  color: #f1f1f1;\n",
              "}\n",
              "#T_18aba_row2_col1 {\n",
              "  background-color: #e46e56;\n",
              "  color: #f1f1f1;\n",
              "}\n",
              "#T_18aba_row2_col4 {\n",
              "  background-color: #f2cbb7;\n",
              "  color: #000000;\n",
              "}\n",
              "#T_18aba_row2_col5 {\n",
              "  background-color: #d8dce2;\n",
              "  color: #000000;\n",
              "}\n",
              "#T_18aba_row2_col6 {\n",
              "  background-color: #5e7de7;\n",
              "  color: #f1f1f1;\n",
              "}\n",
              "#T_18aba_row2_col7 {\n",
              "  background-color: #f5c1a9;\n",
              "  color: #000000;\n",
              "}\n",
              "#T_18aba_row3_col0 {\n",
              "  background-color: #7699f6;\n",
              "  color: #f1f1f1;\n",
              "}\n",
              "#T_18aba_row3_col4 {\n",
              "  background-color: #f7a98b;\n",
              "  color: #000000;\n",
              "}\n",
              "#T_18aba_row3_col5, #T_18aba_row4_col6 {\n",
              "  background-color: #e0dbd8;\n",
              "  color: #000000;\n",
              "}\n",
              "#T_18aba_row3_col6 {\n",
              "  background-color: #dcdddd;\n",
              "  color: #000000;\n",
              "}\n",
              "#T_18aba_row3_col7 {\n",
              "  background-color: #b6cefa;\n",
              "  color: #000000;\n",
              "}\n",
              "#T_18aba_row4_col0, #T_18aba_row7_col0 {\n",
              "  background-color: #5875e1;\n",
              "  color: #f1f1f1;\n",
              "}\n",
              "#T_18aba_row4_col1 {\n",
              "  background-color: #e6d7cf;\n",
              "  color: #000000;\n",
              "}\n",
              "#T_18aba_row4_col2 {\n",
              "  background-color: #f5c0a7;\n",
              "  color: #000000;\n",
              "}\n",
              "#T_18aba_row4_col3 {\n",
              "  background-color: #f59d7e;\n",
              "  color: #000000;\n",
              "}\n",
              "#T_18aba_row4_col5 {\n",
              "  background-color: #f7b093;\n",
              "  color: #000000;\n",
              "}\n",
              "#T_18aba_row4_col7, #T_18aba_row7_col4 {\n",
              "  background-color: #f6a283;\n",
              "  color: #000000;\n",
              "}\n",
              "#T_18aba_row5_col1 {\n",
              "  background-color: #c7d7f0;\n",
              "  color: #000000;\n",
              "}\n",
              "#T_18aba_row5_col2 {\n",
              "  background-color: #d9dce1;\n",
              "  color: #000000;\n",
              "}\n",
              "#T_18aba_row5_col3 {\n",
              "  background-color: #e1dad6;\n",
              "  color: #000000;\n",
              "}\n",
              "#T_18aba_row5_col4 {\n",
              "  background-color: #f7ba9f;\n",
              "  color: #000000;\n",
              "}\n",
              "#T_18aba_row5_col6 {\n",
              "  background-color: #b1cbfc;\n",
              "  color: #000000;\n",
              "}\n",
              "#T_18aba_row5_col7 {\n",
              "  background-color: #f1cdba;\n",
              "  color: #000000;\n",
              "}\n",
              "#T_18aba_row6_col0 {\n",
              "  background-color: #7295f4;\n",
              "  color: #f1f1f1;\n",
              "}\n",
              "#T_18aba_row6_col2 {\n",
              "  background-color: #96b7ff;\n",
              "  color: #000000;\n",
              "}\n",
              "#T_18aba_row6_col3 {\n",
              "  background-color: #f0cdbb;\n",
              "  color: #000000;\n",
              "}\n",
              "#T_18aba_row6_col4 {\n",
              "  background-color: #ead4c8;\n",
              "  color: #000000;\n",
              "}\n",
              "#T_18aba_row6_col5 {\n",
              "  background-color: #d4dbe6;\n",
              "  color: #000000;\n",
              "}\n",
              "#T_18aba_row6_col7 {\n",
              "  background-color: #85a8fc;\n",
              "  color: #f1f1f1;\n",
              "}\n",
              "#T_18aba_row7_col1 {\n",
              "  background-color: #f7b79b;\n",
              "  color: #000000;\n",
              "}\n",
              "#T_18aba_row7_col2 {\n",
              "  background-color: #f7b599;\n",
              "  color: #000000;\n",
              "}\n",
              "#T_18aba_row7_col5 {\n",
              "  background-color: #f5c2aa;\n",
              "  color: #000000;\n",
              "}\n",
              "#T_18aba_row7_col6 {\n",
              "  background-color: #6c8ff1;\n",
              "  color: #f1f1f1;\n",
              "}\n",
              "</style>\n",
              "<table id=\"T_18aba\" class=\"dataframe\">\n",
              "  <thead>\n",
              "    <tr>\n",
              "      <th class=\"blank level0\" >&nbsp;</th>\n",
              "      <th id=\"T_18aba_level0_col0\" class=\"col_heading level0 col0\" >OverallCond</th>\n",
              "      <th id=\"T_18aba_level0_col1\" class=\"col_heading level0 col1\" >TotalBsmtSF</th>\n",
              "      <th id=\"T_18aba_level0_col2\" class=\"col_heading level0 col2\" >1stFlrSF</th>\n",
              "      <th id=\"T_18aba_level0_col3\" class=\"col_heading level0 col3\" >2ndFlrSF</th>\n",
              "      <th id=\"T_18aba_level0_col4\" class=\"col_heading level0 col4\" >GrLivArea</th>\n",
              "      <th id=\"T_18aba_level0_col5\" class=\"col_heading level0 col5\" >FullBath</th>\n",
              "      <th id=\"T_18aba_level0_col6\" class=\"col_heading level0 col6\" >BedroomAbvGr</th>\n",
              "      <th id=\"T_18aba_level0_col7\" class=\"col_heading level0 col7\" >SalePrice</th>\n",
              "    </tr>\n",
              "  </thead>\n",
              "  <tbody>\n",
              "    <tr>\n",
              "      <th id=\"T_18aba_level0_row0\" class=\"row_heading level0 row0\" >OverallCond</th>\n",
              "      <td id=\"T_18aba_row0_col0\" class=\"data row0 col0\" >1.000000</td>\n",
              "      <td id=\"T_18aba_row0_col1\" class=\"data row0 col1\" >-0.171098</td>\n",
              "      <td id=\"T_18aba_row0_col2\" class=\"data row0 col2\" >-0.144203</td>\n",
              "      <td id=\"T_18aba_row0_col3\" class=\"data row0 col3\" >0.028942</td>\n",
              "      <td id=\"T_18aba_row0_col4\" class=\"data row0 col4\" >-0.079686</td>\n",
              "      <td id=\"T_18aba_row0_col5\" class=\"data row0 col5\" >-0.194149</td>\n",
              "      <td id=\"T_18aba_row0_col6\" class=\"data row0 col6\" >0.012980</td>\n",
              "      <td id=\"T_18aba_row0_col7\" class=\"data row0 col7\" >-0.077856</td>\n",
              "    </tr>\n",
              "    <tr>\n",
              "      <th id=\"T_18aba_level0_row1\" class=\"row_heading level0 row1\" >TotalBsmtSF</th>\n",
              "      <td id=\"T_18aba_row1_col0\" class=\"data row1 col0\" >-0.171098</td>\n",
              "      <td id=\"T_18aba_row1_col1\" class=\"data row1 col1\" >1.000000</td>\n",
              "      <td id=\"T_18aba_row1_col2\" class=\"data row1 col2\" >0.819530</td>\n",
              "      <td id=\"T_18aba_row1_col3\" class=\"data row1 col3\" >-0.174512</td>\n",
              "      <td id=\"T_18aba_row1_col4\" class=\"data row1 col4\" >0.454868</td>\n",
              "      <td id=\"T_18aba_row1_col5\" class=\"data row1 col5\" >0.323722</td>\n",
              "      <td id=\"T_18aba_row1_col6\" class=\"data row1 col6\" >0.050450</td>\n",
              "      <td id=\"T_18aba_row1_col7\" class=\"data row1 col7\" >0.613581</td>\n",
              "    </tr>\n",
              "    <tr>\n",
              "      <th id=\"T_18aba_level0_row2\" class=\"row_heading level0 row2\" >1stFlrSF</th>\n",
              "      <td id=\"T_18aba_row2_col0\" class=\"data row2 col0\" >-0.144203</td>\n",
              "      <td id=\"T_18aba_row2_col1\" class=\"data row2 col1\" >0.819530</td>\n",
              "      <td id=\"T_18aba_row2_col2\" class=\"data row2 col2\" >1.000000</td>\n",
              "      <td id=\"T_18aba_row2_col3\" class=\"data row2 col3\" >-0.202646</td>\n",
              "      <td id=\"T_18aba_row2_col4\" class=\"data row2 col4\" >0.566024</td>\n",
              "      <td id=\"T_18aba_row2_col5\" class=\"data row2 col5\" >0.380637</td>\n",
              "      <td id=\"T_18aba_row2_col6\" class=\"data row2 col6\" >0.127401</td>\n",
              "      <td id=\"T_18aba_row2_col7\" class=\"data row2 col7\" >0.605852</td>\n",
              "    </tr>\n",
              "    <tr>\n",
              "      <th id=\"T_18aba_level0_row3\" class=\"row_heading level0 row3\" >2ndFlrSF</th>\n",
              "      <td id=\"T_18aba_row3_col0\" class=\"data row3 col0\" >0.028942</td>\n",
              "      <td id=\"T_18aba_row3_col1\" class=\"data row3 col1\" >-0.174512</td>\n",
              "      <td id=\"T_18aba_row3_col2\" class=\"data row3 col2\" >-0.202646</td>\n",
              "      <td id=\"T_18aba_row3_col3\" class=\"data row3 col3\" >1.000000</td>\n",
              "      <td id=\"T_18aba_row3_col4\" class=\"data row3 col4\" >0.687501</td>\n",
              "      <td id=\"T_18aba_row3_col5\" class=\"data row3 col5\" >0.421378</td>\n",
              "      <td id=\"T_18aba_row3_col6\" class=\"data row3 col6\" >0.502901</td>\n",
              "      <td id=\"T_18aba_row3_col7\" class=\"data row3 col7\" >0.319334</td>\n",
              "    </tr>\n",
              "    <tr>\n",
              "      <th id=\"T_18aba_level0_row4\" class=\"row_heading level0 row4\" >GrLivArea</th>\n",
              "      <td id=\"T_18aba_row4_col0\" class=\"data row4 col0\" >-0.079686</td>\n",
              "      <td id=\"T_18aba_row4_col1\" class=\"data row4 col1\" >0.454868</td>\n",
              "      <td id=\"T_18aba_row4_col2\" class=\"data row4 col2\" >0.566024</td>\n",
              "      <td id=\"T_18aba_row4_col3\" class=\"data row4 col3\" >0.687501</td>\n",
              "      <td id=\"T_18aba_row4_col4\" class=\"data row4 col4\" >1.000000</td>\n",
              "      <td id=\"T_18aba_row4_col5\" class=\"data row4 col5\" >0.630012</td>\n",
              "      <td id=\"T_18aba_row4_col6\" class=\"data row4 col6\" >0.521270</td>\n",
              "      <td id=\"T_18aba_row4_col7\" class=\"data row4 col7\" >0.708624</td>\n",
              "    </tr>\n",
              "    <tr>\n",
              "      <th id=\"T_18aba_level0_row5\" class=\"row_heading level0 row5\" >FullBath</th>\n",
              "      <td id=\"T_18aba_row5_col0\" class=\"data row5 col0\" >-0.194149</td>\n",
              "      <td id=\"T_18aba_row5_col1\" class=\"data row5 col1\" >0.323722</td>\n",
              "      <td id=\"T_18aba_row5_col2\" class=\"data row5 col2\" >0.380637</td>\n",
              "      <td id=\"T_18aba_row5_col3\" class=\"data row5 col3\" >0.421378</td>\n",
              "      <td id=\"T_18aba_row5_col4\" class=\"data row5 col4\" >0.630012</td>\n",
              "      <td id=\"T_18aba_row5_col5\" class=\"data row5 col5\" >1.000000</td>\n",
              "      <td id=\"T_18aba_row5_col6\" class=\"data row5 col6\" >0.363252</td>\n",
              "      <td id=\"T_18aba_row5_col7\" class=\"data row5 col7\" >0.560664</td>\n",
              "    </tr>\n",
              "    <tr>\n",
              "      <th id=\"T_18aba_level0_row6\" class=\"row_heading level0 row6\" >BedroomAbvGr</th>\n",
              "      <td id=\"T_18aba_row6_col0\" class=\"data row6 col0\" >0.012980</td>\n",
              "      <td id=\"T_18aba_row6_col1\" class=\"data row6 col1\" >0.050450</td>\n",
              "      <td id=\"T_18aba_row6_col2\" class=\"data row6 col2\" >0.127401</td>\n",
              "      <td id=\"T_18aba_row6_col3\" class=\"data row6 col3\" >0.502901</td>\n",
              "      <td id=\"T_18aba_row6_col4\" class=\"data row6 col4\" >0.521270</td>\n",
              "      <td id=\"T_18aba_row6_col5\" class=\"data row6 col5\" >0.363252</td>\n",
              "      <td id=\"T_18aba_row6_col6\" class=\"data row6 col6\" >1.000000</td>\n",
              "      <td id=\"T_18aba_row6_col7\" class=\"data row6 col7\" >0.168213</td>\n",
              "    </tr>\n",
              "    <tr>\n",
              "      <th id=\"T_18aba_level0_row7\" class=\"row_heading level0 row7\" >SalePrice</th>\n",
              "      <td id=\"T_18aba_row7_col0\" class=\"data row7 col0\" >-0.077856</td>\n",
              "      <td id=\"T_18aba_row7_col1\" class=\"data row7 col1\" >0.613581</td>\n",
              "      <td id=\"T_18aba_row7_col2\" class=\"data row7 col2\" >0.605852</td>\n",
              "      <td id=\"T_18aba_row7_col3\" class=\"data row7 col3\" >0.319334</td>\n",
              "      <td id=\"T_18aba_row7_col4\" class=\"data row7 col4\" >0.708624</td>\n",
              "      <td id=\"T_18aba_row7_col5\" class=\"data row7 col5\" >0.560664</td>\n",
              "      <td id=\"T_18aba_row7_col6\" class=\"data row7 col6\" >0.168213</td>\n",
              "      <td id=\"T_18aba_row7_col7\" class=\"data row7 col7\" >1.000000</td>\n",
              "    </tr>\n",
              "  </tbody>\n",
              "</table>\n"
            ]
          },
          "metadata": {},
          "execution_count": 14
        }
      ]
    },
    {
      "cell_type": "code",
      "source": [
        "df.columns"
      ],
      "metadata": {
        "colab": {
          "base_uri": "https://localhost:8080/"
        },
        "id": "ZzSpY35Pc1Lo",
        "outputId": "fc760762-7fe9-47eb-827e-efa3d1776941"
      },
      "execution_count": null,
      "outputs": [
        {
          "output_type": "execute_result",
          "data": {
            "text/plain": [
              "Index(['OverallCond', 'TotalBsmtSF', '1stFlrSF', '2ndFlrSF', 'GrLivArea',\n",
              "       'FullBath', 'BedroomAbvGr', 'SalePrice'],\n",
              "      dtype='object')"
            ]
          },
          "metadata": {},
          "execution_count": 15
        }
      ]
    },
    {
      "cell_type": "code",
      "source": [
        "df.duplicated().sum()\n",
        "df.drop_duplicates()\n"
      ],
      "metadata": {
        "trusted": true,
        "colab": {
          "base_uri": "https://localhost:8080/",
          "height": 423
        },
        "id": "HguR0yyCyEVN",
        "outputId": "c8637da2-4011-4e05-aca9-cc51ca3ffca7"
      },
      "execution_count": null,
      "outputs": [
        {
          "output_type": "execute_result",
          "data": {
            "text/plain": [
              "      OverallCond  TotalBsmtSF  1stFlrSF  2ndFlrSF  GrLivArea  FullBath  \\\n",
              "0               5          856       856       854       1710         2   \n",
              "1               8         1262      1262         0       1262         2   \n",
              "2               5          920       920       866       1786         2   \n",
              "3               5          756       961       756       1717         1   \n",
              "4               5         1145      1145      1053       2198         2   \n",
              "...           ...          ...       ...       ...        ...       ...   \n",
              "1455            5          953       953       694       1647         2   \n",
              "1456            6         1542      2073         0       2073         2   \n",
              "1457            9         1152      1188      1152       2340         2   \n",
              "1458            6         1078      1078         0       1078         1   \n",
              "1459            6         1256      1256         0       1256         1   \n",
              "\n",
              "      BedroomAbvGr  SalePrice  \n",
              "0                3     208500  \n",
              "1                3     181500  \n",
              "2                3     223500  \n",
              "3                3     140000  \n",
              "4                4     250000  \n",
              "...            ...        ...  \n",
              "1455             3     175000  \n",
              "1456             3     210000  \n",
              "1457             4     266500  \n",
              "1458             2     142125  \n",
              "1459             3     147500  \n",
              "\n",
              "[1458 rows x 8 columns]"
            ],
            "text/html": [
              "\n",
              "  <div id=\"df-f117b8ee-d99b-4fde-93f7-0c217a9161a4\">\n",
              "    <div class=\"colab-df-container\">\n",
              "      <div>\n",
              "<style scoped>\n",
              "    .dataframe tbody tr th:only-of-type {\n",
              "        vertical-align: middle;\n",
              "    }\n",
              "\n",
              "    .dataframe tbody tr th {\n",
              "        vertical-align: top;\n",
              "    }\n",
              "\n",
              "    .dataframe thead th {\n",
              "        text-align: right;\n",
              "    }\n",
              "</style>\n",
              "<table border=\"1\" class=\"dataframe\">\n",
              "  <thead>\n",
              "    <tr style=\"text-align: right;\">\n",
              "      <th></th>\n",
              "      <th>OverallCond</th>\n",
              "      <th>TotalBsmtSF</th>\n",
              "      <th>1stFlrSF</th>\n",
              "      <th>2ndFlrSF</th>\n",
              "      <th>GrLivArea</th>\n",
              "      <th>FullBath</th>\n",
              "      <th>BedroomAbvGr</th>\n",
              "      <th>SalePrice</th>\n",
              "    </tr>\n",
              "  </thead>\n",
              "  <tbody>\n",
              "    <tr>\n",
              "      <th>0</th>\n",
              "      <td>5</td>\n",
              "      <td>856</td>\n",
              "      <td>856</td>\n",
              "      <td>854</td>\n",
              "      <td>1710</td>\n",
              "      <td>2</td>\n",
              "      <td>3</td>\n",
              "      <td>208500</td>\n",
              "    </tr>\n",
              "    <tr>\n",
              "      <th>1</th>\n",
              "      <td>8</td>\n",
              "      <td>1262</td>\n",
              "      <td>1262</td>\n",
              "      <td>0</td>\n",
              "      <td>1262</td>\n",
              "      <td>2</td>\n",
              "      <td>3</td>\n",
              "      <td>181500</td>\n",
              "    </tr>\n",
              "    <tr>\n",
              "      <th>2</th>\n",
              "      <td>5</td>\n",
              "      <td>920</td>\n",
              "      <td>920</td>\n",
              "      <td>866</td>\n",
              "      <td>1786</td>\n",
              "      <td>2</td>\n",
              "      <td>3</td>\n",
              "      <td>223500</td>\n",
              "    </tr>\n",
              "    <tr>\n",
              "      <th>3</th>\n",
              "      <td>5</td>\n",
              "      <td>756</td>\n",
              "      <td>961</td>\n",
              "      <td>756</td>\n",
              "      <td>1717</td>\n",
              "      <td>1</td>\n",
              "      <td>3</td>\n",
              "      <td>140000</td>\n",
              "    </tr>\n",
              "    <tr>\n",
              "      <th>4</th>\n",
              "      <td>5</td>\n",
              "      <td>1145</td>\n",
              "      <td>1145</td>\n",
              "      <td>1053</td>\n",
              "      <td>2198</td>\n",
              "      <td>2</td>\n",
              "      <td>4</td>\n",
              "      <td>250000</td>\n",
              "    </tr>\n",
              "    <tr>\n",
              "      <th>...</th>\n",
              "      <td>...</td>\n",
              "      <td>...</td>\n",
              "      <td>...</td>\n",
              "      <td>...</td>\n",
              "      <td>...</td>\n",
              "      <td>...</td>\n",
              "      <td>...</td>\n",
              "      <td>...</td>\n",
              "    </tr>\n",
              "    <tr>\n",
              "      <th>1455</th>\n",
              "      <td>5</td>\n",
              "      <td>953</td>\n",
              "      <td>953</td>\n",
              "      <td>694</td>\n",
              "      <td>1647</td>\n",
              "      <td>2</td>\n",
              "      <td>3</td>\n",
              "      <td>175000</td>\n",
              "    </tr>\n",
              "    <tr>\n",
              "      <th>1456</th>\n",
              "      <td>6</td>\n",
              "      <td>1542</td>\n",
              "      <td>2073</td>\n",
              "      <td>0</td>\n",
              "      <td>2073</td>\n",
              "      <td>2</td>\n",
              "      <td>3</td>\n",
              "      <td>210000</td>\n",
              "    </tr>\n",
              "    <tr>\n",
              "      <th>1457</th>\n",
              "      <td>9</td>\n",
              "      <td>1152</td>\n",
              "      <td>1188</td>\n",
              "      <td>1152</td>\n",
              "      <td>2340</td>\n",
              "      <td>2</td>\n",
              "      <td>4</td>\n",
              "      <td>266500</td>\n",
              "    </tr>\n",
              "    <tr>\n",
              "      <th>1458</th>\n",
              "      <td>6</td>\n",
              "      <td>1078</td>\n",
              "      <td>1078</td>\n",
              "      <td>0</td>\n",
              "      <td>1078</td>\n",
              "      <td>1</td>\n",
              "      <td>2</td>\n",
              "      <td>142125</td>\n",
              "    </tr>\n",
              "    <tr>\n",
              "      <th>1459</th>\n",
              "      <td>6</td>\n",
              "      <td>1256</td>\n",
              "      <td>1256</td>\n",
              "      <td>0</td>\n",
              "      <td>1256</td>\n",
              "      <td>1</td>\n",
              "      <td>3</td>\n",
              "      <td>147500</td>\n",
              "    </tr>\n",
              "  </tbody>\n",
              "</table>\n",
              "<p>1458 rows × 8 columns</p>\n",
              "</div>\n",
              "      <button class=\"colab-df-convert\" onclick=\"convertToInteractive('df-f117b8ee-d99b-4fde-93f7-0c217a9161a4')\"\n",
              "              title=\"Convert this dataframe to an interactive table.\"\n",
              "              style=\"display:none;\">\n",
              "        \n",
              "  <svg xmlns=\"http://www.w3.org/2000/svg\" height=\"24px\"viewBox=\"0 0 24 24\"\n",
              "       width=\"24px\">\n",
              "    <path d=\"M0 0h24v24H0V0z\" fill=\"none\"/>\n",
              "    <path d=\"M18.56 5.44l.94 2.06.94-2.06 2.06-.94-2.06-.94-.94-2.06-.94 2.06-2.06.94zm-11 1L8.5 8.5l.94-2.06 2.06-.94-2.06-.94L8.5 2.5l-.94 2.06-2.06.94zm10 10l.94 2.06.94-2.06 2.06-.94-2.06-.94-.94-2.06-.94 2.06-2.06.94z\"/><path d=\"M17.41 7.96l-1.37-1.37c-.4-.4-.92-.59-1.43-.59-.52 0-1.04.2-1.43.59L10.3 9.45l-7.72 7.72c-.78.78-.78 2.05 0 2.83L4 21.41c.39.39.9.59 1.41.59.51 0 1.02-.2 1.41-.59l7.78-7.78 2.81-2.81c.8-.78.8-2.07 0-2.86zM5.41 20L4 18.59l7.72-7.72 1.47 1.35L5.41 20z\"/>\n",
              "  </svg>\n",
              "      </button>\n",
              "      \n",
              "  <style>\n",
              "    .colab-df-container {\n",
              "      display:flex;\n",
              "      flex-wrap:wrap;\n",
              "      gap: 12px;\n",
              "    }\n",
              "\n",
              "    .colab-df-convert {\n",
              "      background-color: #E8F0FE;\n",
              "      border: none;\n",
              "      border-radius: 50%;\n",
              "      cursor: pointer;\n",
              "      display: none;\n",
              "      fill: #1967D2;\n",
              "      height: 32px;\n",
              "      padding: 0 0 0 0;\n",
              "      width: 32px;\n",
              "    }\n",
              "\n",
              "    .colab-df-convert:hover {\n",
              "      background-color: #E2EBFA;\n",
              "      box-shadow: 0px 1px 2px rgba(60, 64, 67, 0.3), 0px 1px 3px 1px rgba(60, 64, 67, 0.15);\n",
              "      fill: #174EA6;\n",
              "    }\n",
              "\n",
              "    [theme=dark] .colab-df-convert {\n",
              "      background-color: #3B4455;\n",
              "      fill: #D2E3FC;\n",
              "    }\n",
              "\n",
              "    [theme=dark] .colab-df-convert:hover {\n",
              "      background-color: #434B5C;\n",
              "      box-shadow: 0px 1px 3px 1px rgba(0, 0, 0, 0.15);\n",
              "      filter: drop-shadow(0px 1px 2px rgba(0, 0, 0, 0.3));\n",
              "      fill: #FFFFFF;\n",
              "    }\n",
              "  </style>\n",
              "\n",
              "      <script>\n",
              "        const buttonEl =\n",
              "          document.querySelector('#df-f117b8ee-d99b-4fde-93f7-0c217a9161a4 button.colab-df-convert');\n",
              "        buttonEl.style.display =\n",
              "          google.colab.kernel.accessAllowed ? 'block' : 'none';\n",
              "\n",
              "        async function convertToInteractive(key) {\n",
              "          const element = document.querySelector('#df-f117b8ee-d99b-4fde-93f7-0c217a9161a4');\n",
              "          const dataTable =\n",
              "            await google.colab.kernel.invokeFunction('convertToInteractive',\n",
              "                                                     [key], {});\n",
              "          if (!dataTable) return;\n",
              "\n",
              "          const docLinkHtml = 'Like what you see? Visit the ' +\n",
              "            '<a target=\"_blank\" href=https://colab.research.google.com/notebooks/data_table.ipynb>data table notebook</a>'\n",
              "            + ' to learn more about interactive tables.';\n",
              "          element.innerHTML = '';\n",
              "          dataTable['output_type'] = 'display_data';\n",
              "          await google.colab.output.renderOutput(dataTable, element);\n",
              "          const docLink = document.createElement('div');\n",
              "          docLink.innerHTML = docLinkHtml;\n",
              "          element.appendChild(docLink);\n",
              "        }\n",
              "      </script>\n",
              "    </div>\n",
              "  </div>\n",
              "  "
            ]
          },
          "metadata": {},
          "execution_count": 16
        }
      ]
    },
    {
      "cell_type": "markdown",
      "source": [
        "checking co relation among the features"
      ],
      "metadata": {
        "id": "E-UPBVk_yEVN"
      }
    },
    {
      "cell_type": "code",
      "source": [
        "df.isna().sum()"
      ],
      "metadata": {
        "trusted": true,
        "colab": {
          "base_uri": "https://localhost:8080/"
        },
        "id": "xUOcHQmGyEVP",
        "outputId": "11c7a9b7-8c5d-47f3-bda3-2ec223737dd3"
      },
      "execution_count": null,
      "outputs": [
        {
          "output_type": "execute_result",
          "data": {
            "text/plain": [
              "OverallCond     0\n",
              "TotalBsmtSF     0\n",
              "1stFlrSF        0\n",
              "2ndFlrSF        0\n",
              "GrLivArea       0\n",
              "FullBath        0\n",
              "BedroomAbvGr    0\n",
              "SalePrice       0\n",
              "dtype: int64"
            ]
          },
          "metadata": {},
          "execution_count": 17
        }
      ]
    },
    {
      "cell_type": "code",
      "source": [
        "If = IsolationForest()\n",
        "If.fit(df)\n",
        "df['anamoly'] = If.predict(df)\n",
        "df.anamoly.value_counts()\n",
        "df= df.loc[df.anamoly == 1]\n",
        "df.drop(columns = ['anamoly'], inplace = True)"
      ],
      "metadata": {
        "trusted": true,
        "id": "2h-IbtFYyEVT",
        "colab": {
          "base_uri": "https://localhost:8080/"
        },
        "outputId": "0db8acb9-bb1c-405b-ac39-bfb8edbbe130"
      },
      "execution_count": null,
      "outputs": [
        {
          "output_type": "stream",
          "name": "stderr",
          "text": [
            "<ipython-input-18-96771e0ae82b>:6: SettingWithCopyWarning: \n",
            "A value is trying to be set on a copy of a slice from a DataFrame\n",
            "\n",
            "See the caveats in the documentation: https://pandas.pydata.org/pandas-docs/stable/user_guide/indexing.html#returning-a-view-versus-a-copy\n",
            "  df.drop(columns = ['anamoly'], inplace = True)\n"
          ]
        }
      ]
    },
    {
      "cell_type": "code",
      "source": [
        "y= df.SalePrice\n",
        "df.drop(columns = ['SalePrice'], inplace = True)"
      ],
      "metadata": {
        "id": "SZAHXtWUT3rc",
        "colab": {
          "base_uri": "https://localhost:8080/"
        },
        "outputId": "3c8eeeb1-726f-4942-f8a0-2c8f3c164e56"
      },
      "execution_count": null,
      "outputs": [
        {
          "output_type": "stream",
          "name": "stderr",
          "text": [
            "<ipython-input-19-0e27db630e51>:2: SettingWithCopyWarning: \n",
            "A value is trying to be set on a copy of a slice from a DataFrame\n",
            "\n",
            "See the caveats in the documentation: https://pandas.pydata.org/pandas-docs/stable/user_guide/indexing.html#returning-a-view-versus-a-copy\n",
            "  df.drop(columns = ['SalePrice'], inplace = True)\n"
          ]
        }
      ]
    },
    {
      "cell_type": "code",
      "source": [
        "fig, axes = plt.subplots(ncols = 2, nrows = 2, figsize = (12,12))\n",
        "for i, ax in enumerate(axes.flat):\n",
        "    if i < len(['TotalBsmtSF', '1stFlrSF', '2ndFlrSF', 'GrLivArea']):\n",
        "        sns.histplot(x= df[(['TotalBsmtSF', '1stFlrSF', '2ndFlrSF', 'GrLivArea'][i])], ax=ax, kde = True)\n",
        "        ax.set_title(['TotalBsmtSF', '1stFlrSF', '2ndFlrSF', 'GrLivArea'][i])   \n",
        "    else:\n",
        "        axes.flat[i].set_visible(False)\n",
        "plt.tight_layout()\n",
        "plt.show()"
      ],
      "metadata": {
        "colab": {
          "base_uri": "https://localhost:8080/",
          "height": 873
        },
        "id": "BQGyTPVHVrqy",
        "outputId": "676b62e0-edde-440b-9f44-39df14a1c906"
      },
      "execution_count": null,
      "outputs": [
        {
          "output_type": "display_data",
          "data": {
            "text/plain": [
              "<Figure size 864x864 with 4 Axes>"
            ],
            "image/png": "[encoded data removed]"
          },
          "metadata": {
            "needs_background": "light"
          }
        }
      ]
    },
    {
      "cell_type": "code",
      "source": [
        "fig, axes = plt.subplots(ncols = 2, nrows = 2, figsize = (12,12))\n",
        "for i, ax in enumerate(axes.flat):\n",
        "    if i < len(['OverallCond', 'FullBath', 'BedroomAbvGr']):\n",
        "        sns.countplot(x= df[(['OverallCond', 'FullBath', 'BedroomAbvGr'][i])], ax=ax)\n",
        "        ax.set_title(['OverallCond', 'FullBath', 'BedroomAbvGr'][i])   \n",
        "    else:\n",
        "        axes.flat[i].set_visible(False)\n",
        "plt.tight_layout()\n",
        "plt.show()"
      ],
      "metadata": {
        "colab": {
          "base_uri": "https://localhost:8080/",
          "height": 873
        },
        "id": "pyOhKeWoWdEJ",
        "outputId": "acff2f51-8e51-4476-8dd1-ff6e1211aca3"
      },
      "execution_count": null,
      "outputs": [
        {
          "output_type": "display_data",
          "data": {
            "text/plain": [
              "<Figure size 864x864 with 4 Axes>"
            ],
            "image/png": "[encoded data removed]"
          },
          "metadata": {
            "needs_background": "light"
          }
        }
      ]
    },
    {
      "cell_type": "code",
      "source": [
        "sns.histplot(x = y, kde = True)\n",
        "plt.show()"
      ],
      "metadata": {
        "colab": {
          "base_uri": "https://localhost:8080/",
          "height": 279
        },
        "id": "ZLJp1i2zXJvB",
        "outputId": "ce00c280-f06d-4b6b-95aa-89bbefbf66cf"
      },
      "execution_count": null,
      "outputs": [
        {
          "output_type": "display_data",
          "data": {
            "text/plain": [
              "<Figure size 432x288 with 1 Axes>"
            ],
            "image/png": "[encoded data removed]"
          },
          "metadata": {
            "needs_background": "light"
          }
        }
      ]
    },
    {
      "cell_type": "code",
      "source": [
        "trainx, testx, trainy,testy = train_test_split(df, y, train_size = 0.7, random_state = 100)  "
      ],
      "metadata": {
        "execution": {
          "iopub.status.busy": "2023-01-22T21:44:07.520988Z",
          "iopub.execute_input": "2023-01-22T21:44:07.521427Z",
          "iopub.status.idle": "2023-01-22T21:44:07.532389Z",
          "shell.execute_reply.started": "2023-01-22T21:44:07.521393Z",
          "shell.execute_reply": "2023-01-22T21:44:07.531264Z"
        },
        "trusted": true,
        "id": "JIWMDfoSyEVT"
      },
      "execution_count": null,
      "outputs": []
    },
    {
      "cell_type": "markdown",
      "source": [
        "Splitting into test and train"
      ],
      "metadata": {
        "id": "80ENDWoQyEVT"
      }
    },
    {
      "cell_type": "code",
      "source": [
        "trainxcon = trainx.loc[: , ['TotalBsmtSF', '1stFlrSF', '2ndFlrSF', 'GrLivArea']]\n",
        "ss = StandardScaler()\n",
        "trainxcon = pd.DataFrame(ss.fit_transform(trainxcon), columns = trainxcon.columns, index = trainxcon.index)\n",
        "testxcon = testx.loc[: , ['TotalBsmtSF', '1stFlrSF', '2ndFlrSF', 'GrLivArea']]\n",
        "testxcon = pd.DataFrame(ss.transform(testxcon), columns = testxcon.columns, index = testxcon.index)"
      ],
      "metadata": {
        "execution": {
          "iopub.status.busy": "2023-01-22T21:44:09.349229Z",
          "iopub.execute_input": "2023-01-22T21:44:09.350555Z",
          "iopub.status.idle": "2023-01-22T21:44:09.365432Z",
          "shell.execute_reply.started": "2023-01-22T21:44:09.350452Z",
          "shell.execute_reply": "2023-01-22T21:44:09.364228Z"
        },
        "trusted": true,
        "id": "cR3HZ6IOyEVU"
      },
      "execution_count": null,
      "outputs": []
    },
    {
      "cell_type": "code",
      "source": [
        "trainx.drop(columns = ['TotalBsmtSF', '1stFlrSF', '2ndFlrSF', 'GrLivArea'], inplace = True)\n",
        "testx.drop(columns = ['TotalBsmtSF', '1stFlrSF', '2ndFlrSF', 'GrLivArea'], inplace = True)\n"
      ],
      "metadata": {
        "execution": {
          "iopub.status.busy": "2023-01-22T21:44:12.491146Z",
          "iopub.execute_input": "2023-01-22T21:44:12.491470Z",
          "iopub.status.idle": "2023-01-22T21:44:12.499811Z",
          "shell.execute_reply.started": "2023-01-22T21:44:12.491442Z",
          "shell.execute_reply": "2023-01-22T21:44:12.498598Z"
        },
        "trusted": true,
        "id": "zNWTrkwqyEVU"
      },
      "execution_count": null,
      "outputs": []
    },
    {
      "cell_type": "code",
      "source": [
        "trainx = pd.merge(trainx, trainxcon, left_index=True, right_index=True, how='inner')\n",
        "testx = pd.merge(testx, testxcon, left_index=True, right_index=True, how='inner')\n",
        "testx.reset_index(drop= True, inplace = True)\n",
        "trainx.reset_index(drop= True, inplace = True)"
      ],
      "metadata": {
        "id": "yeiY5IaFfz-r"
      },
      "execution_count": null,
      "outputs": []
    },
    {
      "cell_type": "code",
      "source": [],
      "metadata": {
        "id": "HTWG0m2TUxj1"
      },
      "execution_count": null,
      "outputs": []
    },
    {
      "cell_type": "markdown",
      "source": [
        "Resetting the index and performing outer join"
      ],
      "metadata": {
        "id": "-MzRyHytyEVV"
      }
    },
    {
      "cell_type": "code",
      "source": [
        "model = Ridge()\n",
        "max_iter = np.array(range(100000, 1000000))\n",
        "alpha = np.linspace(1, 10, 50)\n",
        "solver = ['cholesky', 'svd', 'lsqr']\n",
        "param = {'max_iter': max_iter, 'alpha': alpha, 'solver': solver}\n",
        "rridge = RandomizedSearchCV(model, param, cv=50, scoring = 'neg_mean_squared_error', verbose=0)\n",
        "n_iter = rridge.n_iter\n",
        "with tqdm(total=n_iter) as pbar:\n",
        "    for i in range(n_iter):\n",
        "        rridge.set_params(n_iter=1)\n",
        "        rridge.fit(trainx, trainy)\n",
        "        pbar.update()\n",
        "print(rridge.best_params_)"
      ],
      "metadata": {
        "trusted": true,
        "id": "CnB8OGJByEVW",
        "colab": {
          "base_uri": "https://localhost:8080/"
        },
        "outputId": "d9449a83-ac66-4326-e193-c0309ed430f8"
      },
      "execution_count": null,
      "outputs": [
        {
          "output_type": "stream",
          "name": "stderr",
          "text": [
            "100%|██████████| 10/10 [00:05<00:00,  1.88it/s]"
          ]
        },
        {
          "output_type": "stream",
          "name": "stdout",
          "text": [
            "{'solver': 'svd', 'max_iter': 961027, 'alpha': 1.183673469387755}\n"
          ]
        },
        {
          "output_type": "stream",
          "name": "stderr",
          "text": [
            "\n"
          ]
        }
      ]
    },
    {
      "cell_type": "markdown",
      "source": [
        "Used RandomizedsearchCV for parameter tuning"
      ],
      "metadata": {
        "id": "_izy5gg-yEVW"
      }
    },
    {
      "cell_type": "code",
      "source": [
        "model = Ridge(solver = 'cholesky', max_iter = 237694, alpha =  6.142857142857143, random_state = 100)\n",
        "model.fit(trainx, trainy)\n",
        "predy = model.predict(testx)\n",
        "print('RMSE:', mean_squared_error(testy, predy, squared = False))\n",
        "print('R2 score:', r2_score(testy, predy))"
      ],
      "metadata": {
        "execution": {
          "iopub.status.busy": "2023-01-22T21:44:25.146290Z",
          "iopub.execute_input": "2023-01-22T21:44:25.146702Z",
          "iopub.status.idle": "2023-01-22T21:44:25.193711Z",
          "shell.execute_reply.started": "2023-01-22T21:44:25.146668Z",
          "shell.execute_reply": "2023-01-22T21:44:25.192600Z"
        },
        "trusted": true,
        "id": "T5WF1egwyEVW",
        "outputId": "5754deeb-d4ea-4468-d3c0-22d8b51b2ac5",
        "colab": {
          "base_uri": "https://localhost:8080/"
        }
      },
      "execution_count": null,
      "outputs": [
        {
          "output_type": "stream",
          "name": "stdout",
          "text": [
            "RMSE: 31725.331603201223\n",
            "R2 score: 0.7090588095296788\n"
          ]
        }
      ]
    },
    {
      "cell_type": "markdown",
      "source": [
        "# The best model\n",
        "## Ridge\n",
        "RMSE: 29488.808323622874\n",
        "R2 score: 0.864901959519436"
      ],
      "metadata": {
        "id": "Y523ubW0yEVX"
      }
    },
    {
      "cell_type": "code",
      "source": [
        "def obj_light(trial):\n",
        "    params ={\n",
        "        'max_depth': trial.suggest_int('max_depth', 1, 10),\n",
        "        'learning_rate': trial.suggest_float('learning_rate', 0.1,1),\n",
        "        'n_estimators': trial.suggest_int('n_estimators', 200,1000),\n",
        "        'min_child_weight': trial.suggest_int('min_child_weight', 1, 20),\n",
        "        'subsample': trial.suggest_float('subsample', 0.1, 1),\n",
        "        'colsample_bytree': trial.suggest_float('colsample_bytree', 0.1,1),\n",
        "        'reg_alpha': trial.suggest_float('reg_alpha', 0, 1),\n",
        "        'reg_lambda': trial.suggest_float('reg_lambda', 0,1)\n",
        "    }\n",
        "    optuna_model = LGBMRegressor(**params)\n",
        "    cv = KFold(n_splits = 10, shuffle = True, random_state = 0)\n",
        "    scores = []\n",
        "    for train_index, test_index in cv.split(df,y):\n",
        "        trainx, testx = df.iloc[train_index], df.iloc[test_index]\n",
        "        trainy, testy = y.iloc[train_index], y.iloc[test_index]\n",
        "        optuna_model.fit(trainx, trainy)\n",
        "        predy = optuna_model.predict(testx)\n",
        "        scores.append(mean_squared_error(testy, predy, squared = False))\n",
        "        return np.mean(scores)\n",
        "study_light = optuna.create_study(direction = 'minimize')\n",
        "optuna.logging.set_verbosity(optuna.logging.WARNING)\n",
        "n_trials = 50\n",
        "with tqdm(total = n_trials) as pbar:\n",
        "    for i in range(n_trials):\n",
        "        study_light.optimize(obj_light, n_trials = 1)\n",
        "        pbar.update(1)"
      ],
      "metadata": {
        "colab": {
          "base_uri": "https://localhost:8080/"
        },
        "id": "o5--i8loQVsx",
        "outputId": "758aad46-1865-48d2-8c6d-5709fbabac12"
      },
      "execution_count": null,
      "outputs": [
        {
          "output_type": "stream",
          "name": "stderr",
          "text": [
            "\u001b[32m[I 2023-03-26 19:51:34,013]\u001b[0m A new study created in memory with name: no-name-eced3ef5-8f3b-49a1-bafa-eea6708aaeec\u001b[0m\n",
            "100%|██████████| 50/50 [00:42<00:00,  1.19it/s]\n"
          ]
        }
      ]
    },
    {
      "cell_type": "code",
      "source": [
        "cv = KFold(n_splits = 10, shuffle = True, random_state = 0)\n",
        "rmse_lgb=[]\n",
        "r_squared = []\n",
        "for train_index, test_index in cv.split(df,y):\n",
        "        trainx, testx = df.iloc[train_index], df.iloc[test_index]\n",
        "        trainy, testy = y.iloc[train_index], y.iloc[test_index]\n",
        "        model_lgb = LGBMRegressor(**study_light.best_params)\n",
        "        model_lgb.fit(trainx,trainy,eval_set=[(testx,testy)],early_stopping_rounds=100,verbose= False )\n",
        "        rmse_lgb.append(mean_squared_error(testy, model_lgb.predict(testx), squared=False))\n",
        "        r_squared.append(r2_score(testy,model_lgb.predict(testx)))\n",
        "print(np.mean(rmse_lgb))\n",
        "print(np.mean(r_squared))"
      ],
      "metadata": {
        "colab": {
          "base_uri": "https://localhost:8080/"
        },
        "id": "cXZ4WRrMRu9e",
        "outputId": "f83b43ab-2c90-4546-df56-554d5161f683"
      },
      "execution_count": null,
      "outputs": [
        {
          "output_type": "stream",
          "name": "stderr",
          "text": [
            "/usr/local/lib/python3.9/dist-packages/lightgbm/sklearn.py:726: UserWarning: 'early_stopping_rounds' argument is deprecated and will be removed in a future release of LightGBM. Pass 'early_stopping()' callback via 'callbacks' argument instead.\n",
            "  _log_warning(\"'early_stopping_rounds' argument is deprecated and will be removed in a future release of LightGBM. \"\n",
            "/usr/local/lib/python3.9/dist-packages/lightgbm/sklearn.py:736: UserWarning: 'verbose' argument is deprecated and will be removed in a future release of LightGBM. Pass 'log_evaluation()' callback via 'callbacks' argument instead.\n",
            "  _log_warning(\"'verbose' argument is deprecated and will be removed in a future release of LightGBM. \"\n",
            "/usr/local/lib/python3.9/dist-packages/lightgbm/sklearn.py:726: UserWarning: 'early_stopping_rounds' argument is deprecated and will be removed in a future release of LightGBM. Pass 'early_stopping()' callback via 'callbacks' argument instead.\n",
            "  _log_warning(\"'early_stopping_rounds' argument is deprecated and will be removed in a future release of LightGBM. \"\n",
            "/usr/local/lib/python3.9/dist-packages/lightgbm/sklearn.py:736: UserWarning: 'verbose' argument is deprecated and will be removed in a future release of LightGBM. Pass 'log_evaluation()' callback via 'callbacks' argument instead.\n",
            "  _log_warning(\"'verbose' argument is deprecated and will be removed in a future release of LightGBM. \"\n",
            "/usr/local/lib/python3.9/dist-packages/lightgbm/sklearn.py:726: UserWarning: 'early_stopping_rounds' argument is deprecated and will be removed in a future release of LightGBM. Pass 'early_stopping()' callback via 'callbacks' argument instead.\n",
            "  _log_warning(\"'early_stopping_rounds' argument is deprecated and will be removed in a future release of LightGBM. \"\n",
            "/usr/local/lib/python3.9/dist-packages/lightgbm/sklearn.py:736: UserWarning: 'verbose' argument is deprecated and will be removed in a future release of LightGBM. Pass 'log_evaluation()' callback via 'callbacks' argument instead.\n",
            "  _log_warning(\"'verbose' argument is deprecated and will be removed in a future release of LightGBM. \"\n",
            "/usr/local/lib/python3.9/dist-packages/lightgbm/sklearn.py:726: UserWarning: 'early_stopping_rounds' argument is deprecated and will be removed in a future release of LightGBM. Pass 'early_stopping()' callback via 'callbacks' argument instead.\n",
            "  _log_warning(\"'early_stopping_rounds' argument is deprecated and will be removed in a future release of LightGBM. \"\n",
            "/usr/local/lib/python3.9/dist-packages/lightgbm/sklearn.py:736: UserWarning: 'verbose' argument is deprecated and will be removed in a future release of LightGBM. Pass 'log_evaluation()' callback via 'callbacks' argument instead.\n",
            "  _log_warning(\"'verbose' argument is deprecated and will be removed in a future release of LightGBM. \"\n",
            "/usr/local/lib/python3.9/dist-packages/lightgbm/sklearn.py:726: UserWarning: 'early_stopping_rounds' argument is deprecated and will be removed in a future release of LightGBM. Pass 'early_stopping()' callback via 'callbacks' argument instead.\n",
            "  _log_warning(\"'early_stopping_rounds' argument is deprecated and will be removed in a future release of LightGBM. \"\n",
            "/usr/local/lib/python3.9/dist-packages/lightgbm/sklearn.py:736: UserWarning: 'verbose' argument is deprecated and will be removed in a future release of LightGBM. Pass 'log_evaluation()' callback via 'callbacks' argument instead.\n",
            "  _log_warning(\"'verbose' argument is deprecated and will be removed in a future release of LightGBM. \"\n",
            "/usr/local/lib/python3.9/dist-packages/lightgbm/sklearn.py:726: UserWarning: 'early_stopping_rounds' argument is deprecated and will be removed in a future release of LightGBM. Pass 'early_stopping()' callback via 'callbacks' argument instead.\n",
            "  _log_warning(\"'early_stopping_rounds' argument is deprecated and will be removed in a future release of LightGBM. \"\n",
            "/usr/local/lib/python3.9/dist-packages/lightgbm/sklearn.py:736: UserWarning: 'verbose' argument is deprecated and will be removed in a future release of LightGBM. Pass 'log_evaluation()' callback via 'callbacks' argument instead.\n",
            "  _log_warning(\"'verbose' argument is deprecated and will be removed in a future release of LightGBM. \"\n",
            "/usr/local/lib/python3.9/dist-packages/lightgbm/sklearn.py:726: UserWarning: 'early_stopping_rounds' argument is deprecated and will be removed in a future release of LightGBM. Pass 'early_stopping()' callback via 'callbacks' argument instead.\n",
            "  _log_warning(\"'early_stopping_rounds' argument is deprecated and will be removed in a future release of LightGBM. \"\n",
            "/usr/local/lib/python3.9/dist-packages/lightgbm/sklearn.py:736: UserWarning: 'verbose' argument is deprecated and will be removed in a future release of LightGBM. Pass 'log_evaluation()' callback via 'callbacks' argument instead.\n",
            "  _log_warning(\"'verbose' argument is deprecated and will be removed in a future release of LightGBM. \"\n",
            "/usr/local/lib/python3.9/dist-packages/lightgbm/sklearn.py:726: UserWarning: 'early_stopping_rounds' argument is deprecated and will be removed in a future release of LightGBM. Pass 'early_stopping()' callback via 'callbacks' argument instead.\n",
            "  _log_warning(\"'early_stopping_rounds' argument is deprecated and will be removed in a future release of LightGBM. \"\n",
            "/usr/local/lib/python3.9/dist-packages/lightgbm/sklearn.py:736: UserWarning: 'verbose' argument is deprecated and will be removed in a future release of LightGBM. Pass 'log_evaluation()' callback via 'callbacks' argument instead.\n",
            "  _log_warning(\"'verbose' argument is deprecated and will be removed in a future release of LightGBM. \"\n"
          ]
        },
        {
          "output_type": "stream",
          "name": "stdout",
          "text": [
            "29619.699462108536\n",
            "0.7585993864364979\n"
          ]
        },
        {
          "output_type": "stream",
          "name": "stderr",
          "text": [
            "/usr/local/lib/python3.9/dist-packages/lightgbm/sklearn.py:726: UserWarning: 'early_stopping_rounds' argument is deprecated and will be removed in a future release of LightGBM. Pass 'early_stopping()' callback via 'callbacks' argument instead.\n",
            "  _log_warning(\"'early_stopping_rounds' argument is deprecated and will be removed in a future release of LightGBM. \"\n",
            "/usr/local/lib/python3.9/dist-packages/lightgbm/sklearn.py:736: UserWarning: 'verbose' argument is deprecated and will be removed in a future release of LightGBM. Pass 'log_evaluation()' callback via 'callbacks' argument instead.\n",
            "  _log_warning(\"'verbose' argument is deprecated and will be removed in a future release of LightGBM. \"\n",
            "/usr/local/lib/python3.9/dist-packages/lightgbm/sklearn.py:726: UserWarning: 'early_stopping_rounds' argument is deprecated and will be removed in a future release of LightGBM. Pass 'early_stopping()' callback via 'callbacks' argument instead.\n",
            "  _log_warning(\"'early_stopping_rounds' argument is deprecated and will be removed in a future release of LightGBM. \"\n",
            "/usr/local/lib/python3.9/dist-packages/lightgbm/sklearn.py:736: UserWarning: 'verbose' argument is deprecated and will be removed in a future release of LightGBM. Pass 'log_evaluation()' callback via 'callbacks' argument instead.\n",
            "  _log_warning(\"'verbose' argument is deprecated and will be removed in a future release of LightGBM. \"\n"
          ]
        }
      ]
    },
    {
      "cell_type": "code",
      "source": [
        "with open('my_model.pickle', 'wb') as f:\n",
        "    pickle.dump(model_lgb, f)"
      ],
      "metadata": {
        "id": "ZjYe6mMBf3_v"
      },
      "execution_count": null,
      "outputs": []
    },
    {
      "cell_type": "code",
      "source": [
        "with open('my_model.pickle', 'rb') as f:\n",
        "    model = pickle.load(f)"
      ],
      "metadata": {
        "id": "yu3YfCZ4h1NB"
      },
      "execution_count": null,
      "outputs": []
    },
    {
      "cell_type": "code",
      "source": [
        "from sklearn.preprocessing import LabelEncoder\n",
        "\n",
        "# create dictionary for user input\n",
        "user_input = {}\n",
        "for feature in features:\n",
        "    if feature in ['OverallCond', 'FullBath', 'BedroomAbvGr']:\n",
        "        user_input[feature] = input(f\"Enter {feature}: \")\n",
        "    else:\n",
        "        user_input[feature] = float(input(f\"Enter {feature}: \"))\n",
        "\n",
        "# create label encoder for categorical features\n",
        "encoder = LabelEncoder()\n",
        "for feature in ['OverallCond', 'FullBath', 'BedroomAbvGr']:\n",
        "    encoder.fit(np.unique(df[feature]))\n",
        "    user_input[feature] = encoder.transform([user_input[feature]])[0]\n",
        "\n",
        "# convert user input to numpy array\n",
        "user_input_array = np.array(list(user_input.values())).reshape(1, -1)\n",
        "\n",
        "# make predictions on user input using the loaded model\n",
        "predicted_sale_price = model.predict(user_input_array)[0]\n",
        "\n",
        "print(f\"Predicted SalePrice: ${predicted_sale_price:.2f}\")\n"
      ],
      "metadata": {
        "colab": {
          "base_uri": "https://localhost:8080/"
        },
        "id": "8eNOQyU-k2oC",
        "outputId": "6a85078b-1866-4c9d-cd6f-1912839f902e"
      },
      "execution_count": null,
      "outputs": [
        {
          "output_type": "stream",
          "name": "stdout",
          "text": [
            "Enter OverallCond: 6\n",
            "Enter FullBath: 3\n",
            "Enter BedroomAbvGr: 2\n",
            "Enter TotalBsmtSF: 333\n",
            "Enter 1stFlrSF: 333\n",
            "Enter 2ndFlrSF: 3345\n",
            "Enter GrLivArea: 4444\n",
            "Predicted SalePrice: $98375.07\n"
          ]
        }
      ]
    }
  ]
}